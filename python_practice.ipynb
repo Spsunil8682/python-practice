{
  "nbformat": 4,
  "nbformat_minor": 0,
  "metadata": {
    "colab": {
      "name": "python practice",
      "provenance": [],
      "authorship_tag": "ABX9TyNhZskX7Ncoz0wxYRWcuMaw",
      "include_colab_link": true
    },
    "kernelspec": {
      "name": "python3",
      "display_name": "Python 3"
    },
    "language_info": {
      "name": "python"
    }
  },
  "cells": [
    {
      "cell_type": "markdown",
      "metadata": {
        "id": "view-in-github",
        "colab_type": "text"
      },
      "source": [
        "<a href=\"https://colab.research.google.com/github/Spsunil8682/python-practice/blob/main/python_practice.ipynb\" target=\"_parent\"><img src=\"https://colab.research.google.com/assets/colab-badge.svg\" alt=\"Open In Colab\"/></a>"
      ]
    },
    {
      "cell_type": "code",
      "metadata": {
        "colab": {
          "base_uri": "https://localhost:8080/"
        },
        "id": "IAAYmeacaFzr",
        "outputId": "014956c3-ae39-44f8-90d5-bc68a0401873"
      },
      "source": [
        "for k in range(1,10) :\n",
        "    print(k)\n",
        "    if k == 5 + 4:\n",
        "        break\n",
        "\n",
        "if True:\n",
        "    print('Hello')\n",
        "    a = 5\n",
        "\n",
        "if True: print('Hello'); a = 5"
      ],
      "execution_count": null,
      "outputs": [
        {
          "output_type": "stream",
          "text": [
            "1\n",
            "2\n",
            "3\n",
            "4\n",
            "5\n",
            "6\n",
            "7\n",
            "8\n",
            "9\n",
            "Hello\n",
            "Hello\n"
          ],
          "name": "stdout"
        }
      ]
    },
    {
      "cell_type": "code",
      "metadata": {
        "colab": {
          "base_uri": "https://localhost:8080/",
          "height": 51
        },
        "id": "4xtsSBzLag8Z",
        "outputId": "be3b8cb0-2811-44e1-8665-285a82e60d11"
      },
      "source": [
        "#   This is a comment\n",
        "#   print name of the course\n",
        "\n",
        "print('Welcome to OOP Course')\n",
        "\n",
        "\n",
        "\"\"\"This is also a\n",
        "an example of\n",
        "multi-line comments\"\"\""
      ],
      "execution_count": null,
      "outputs": [
        {
          "output_type": "stream",
          "text": [
            "Welcome to OOP Course\n"
          ],
          "name": "stdout"
        },
        {
          "output_type": "execute_result",
          "data": {
            "application/vnd.google.colaboratory.intrinsic+json": {
              "type": "string"
            },
            "text/plain": [
              "'This is also a\\nan example of\\nmulti-line comments'"
            ]
          },
          "metadata": {},
          "execution_count": 3
        }
      ]
    },
    {
      "cell_type": "code",
      "metadata": {
        "colab": {
          "base_uri": "https://localhost:8080/"
        },
        "id": "ziEOyZfvapCr",
        "outputId": "6214f646-e8cb-4732-867e-71290c2fdc8b"
      },
      "source": [
        "\n",
        "def sum(num):\n",
        "    \"\"\"Function to the values\"\"\"\n",
        "    return 2+num\n",
        "\n",
        "print(sum.__doc__)"
      ],
      "execution_count": null,
      "outputs": [
        {
          "output_type": "stream",
          "text": [
            "Function to the values\n"
          ],
          "name": "stdout"
        }
      ]
    },
    {
      "cell_type": "code",
      "metadata": {
        "colab": {
          "base_uri": "https://localhost:8080/"
        },
        "id": "ppUft_lca1uo",
        "outputId": "de355c78-b58f-4c58-d05d-7792a1f04369"
      },
      "source": [
        "print(\"India\")\n",
        "type(\"India\")"
      ],
      "execution_count": null,
      "outputs": [
        {
          "output_type": "stream",
          "text": [
            "India\n"
          ],
          "name": "stdout"
        },
        {
          "output_type": "execute_result",
          "data": {
            "text/plain": [
              "str"
            ]
          },
          "metadata": {},
          "execution_count": 6
        }
      ]
    },
    {
      "cell_type": "code",
      "metadata": {
        "id": "F8s_ITrYa5a_"
      },
      "source": [
        "\n",
        "a = 50\n",
        "a=b=50\n",
        "b=100"
      ],
      "execution_count": null,
      "outputs": []
    },
    {
      "cell_type": "code",
      "metadata": {
        "colab": {
          "base_uri": "https://localhost:8080/"
        },
        "id": "KLM6lSRva-dl",
        "outputId": "24d515ca-a1e2-4f42-f121-275cd2444577"
      },
      "source": [
        "a = 100  \n",
        "b = a  \n",
        "print(id(a)) \n",
        "print(id(b)) \n",
        "print(a)\n",
        "print(a)\n",
        "# Reassigned variable a  \n",
        "a = 800  \n",
        "print(id(a))\n",
        "print(a)"
      ],
      "execution_count": null,
      "outputs": [
        {
          "output_type": "stream",
          "text": [
            "94602063128160\n",
            "94602063128160\n",
            "100\n",
            "100\n",
            "140692904106544\n",
            "800\n"
          ],
          "name": "stdout"
        }
      ]
    },
    {
      "cell_type": "code",
      "metadata": {
        "colab": {
          "base_uri": "https://localhost:8080/"
        },
        "id": "ROmSwv1wbC_V",
        "outputId": "b8cbba26-973c-4232-8735-4edf5ad94a07"
      },
      "source": [
        "name = \"OOPCourse\"  \n",
        "Myage=Herage= 45       # Assigning single value to multiple variables\n",
        "a=b=c=90  \n",
        "a=b=c=4,5,6               \n",
        "a,b,c=4,5,6            # Assigning multiple values to multiple variables:\n",
        "\n",
        "print(name)  \n",
        "print(Myage,Herage)  \n",
        "print(a,b,c) \n",
        "\n",
        "name = \"Test1\"  \n",
        "Name = \"Test2\"  \n",
        "naMe = \"Test3\"  \n",
        "NAME = \"Test4\"  \n",
        "n_a_m_e = \"Test5\"  \n",
        "_name = \"Test6\"  \n",
        "name_ = \"Test7\"  \n",
        "_name_ = \"Test8\"  \n",
        "na80me = \"Test9\"  \n",
        "print(name,Name,naMe,NAME)            # Print multiple values  \n",
        "print(name,Name,naMe,NAME,n_a_m_e, NAME, n_a_m_e, _name, name_,_name, na80me)"
      ],
      "execution_count": null,
      "outputs": [
        {
          "output_type": "stream",
          "text": [
            "OOPCourse\n",
            "45 45\n",
            "4 5 6\n",
            "Test1 Test2 Test3 Test4\n",
            "Test1 Test2 Test3 Test4 Test5 Test4 Test5 Test6 Test7 Test6 Test9\n"
          ],
          "name": "stdout"
        }
      ]
    },
    {
      "cell_type": "code",
      "metadata": {
        "colab": {
          "base_uri": "https://localhost:8080/",
          "height": 214
        },
        "id": "cTNFS6PtbGBd",
        "outputId": "c2229197-ed7c-462f-b2a0-9d2ee4140744"
      },
      "source": [
        "# Declaring a function  \n",
        "def Myadd():  \n",
        "    # Defining local variables. They has scope only within a function  \n",
        "    m = 40  \n",
        "    n = 40  \n",
        "    p = m + n \n",
        "    print(\"The sum is:\", p)  \n",
        "  \n",
        "# Calling a function  \n",
        "Myadd()  \n",
        "\n",
        "# Accessing local variable outside the function. Gives an error   \n",
        "print(m)"
      ],
      "execution_count": null,
      "outputs": [
        {
          "output_type": "stream",
          "text": [
            "The sum is: 80\n"
          ],
          "name": "stdout"
        },
        {
          "output_type": "error",
          "ename": "NameError",
          "evalue": "ignored",
          "traceback": [
            "\u001b[0;31m---------------------------------------------------------------------------\u001b[0m",
            "\u001b[0;31mNameError\u001b[0m                                 Traceback (most recent call last)",
            "\u001b[0;32m<ipython-input-11-5f46aa02c80a>\u001b[0m in \u001b[0;36m<module>\u001b[0;34m()\u001b[0m\n\u001b[1;32m     11\u001b[0m \u001b[0;34m\u001b[0m\u001b[0m\n\u001b[1;32m     12\u001b[0m \u001b[0;31m# Accessing local variable outside the function. Gives an error\u001b[0m\u001b[0;34m\u001b[0m\u001b[0;34m\u001b[0m\u001b[0;34m\u001b[0m\u001b[0m\n\u001b[0;32m---> 13\u001b[0;31m \u001b[0mprint\u001b[0m\u001b[0;34m(\u001b[0m\u001b[0mm\u001b[0m\u001b[0;34m)\u001b[0m\u001b[0;34m\u001b[0m\u001b[0;34m\u001b[0m\u001b[0m\n\u001b[0m",
            "\u001b[0;31mNameError\u001b[0m: name 'm' is not defined"
          ]
        }
      ]
    },
    {
      "cell_type": "code",
      "metadata": {
        "colab": {
          "base_uri": "https://localhost:8080/",
          "height": 248
        },
        "id": "3XPSY_j5bKCO",
        "outputId": "eb1156c3-e44c-431c-a37e-80c9705197e1"
      },
      "source": [
        "# Declare a variable and initialize it  \n",
        "x = 200  \n",
        "  \n",
        "# Global variable in function  \n",
        "def mFunction():  \n",
        "    # printing a global variable  \n",
        "    global x  \n",
        "    print(x)  \n",
        "    # modifying a global variable  \n",
        "    x = 'Welcome To OOP'  \n",
        "    print(x)  \n",
        "  \n",
        "mFunction()  \n",
        "print(x)  \n",
        "\n",
        "del x  \n",
        "print(x)"
      ],
      "execution_count": null,
      "outputs": [
        {
          "output_type": "stream",
          "text": [
            "200\n",
            "Welcome To OOP\n",
            "Welcome To OOP\n"
          ],
          "name": "stdout"
        },
        {
          "output_type": "error",
          "ename": "NameError",
          "evalue": "ignored",
          "traceback": [
            "\u001b[0;31m---------------------------------------------------------------------------\u001b[0m",
            "\u001b[0;31mNameError\u001b[0m                                 Traceback (most recent call last)",
            "\u001b[0;32m<ipython-input-12-2573a2017fa4>\u001b[0m in \u001b[0;36m<module>\u001b[0;34m()\u001b[0m\n\u001b[1;32m     15\u001b[0m \u001b[0;34m\u001b[0m\u001b[0m\n\u001b[1;32m     16\u001b[0m \u001b[0;32mdel\u001b[0m \u001b[0mx\u001b[0m\u001b[0;34m\u001b[0m\u001b[0;34m\u001b[0m\u001b[0m\n\u001b[0;32m---> 17\u001b[0;31m \u001b[0mprint\u001b[0m\u001b[0;34m(\u001b[0m\u001b[0mx\u001b[0m\u001b[0;34m)\u001b[0m\u001b[0;34m\u001b[0m\u001b[0;34m\u001b[0m\u001b[0m\n\u001b[0m",
            "\u001b[0;31mNameError\u001b[0m: name 'x' is not defined"
          ]
        }
      ]
    },
    {
      "cell_type": "code",
      "metadata": {
        "colab": {
          "base_uri": "https://localhost:8080/"
        },
        "id": "bRzmiKlkbZKO",
        "outputId": "b666c2aa-f655-4782-8f37-bee4b7ae9ea9"
      },
      "source": [
        "c = 50000000000000000000000000000000000000000000  \n",
        "c = c + 1  \n",
        "print(type(c))  \n",
        "print (c)"
      ],
      "execution_count": null,
      "outputs": [
        {
          "output_type": "stream",
          "text": [
            "<class 'int'>\n",
            "50000000000000000000000000000000000000000001\n"
          ],
          "name": "stdout"
        }
      ]
    },
    {
      "cell_type": "code",
      "metadata": {
        "colab": {
          "base_uri": "https://localhost:8080/"
        },
        "id": "umgPzdrLbpi_",
        "outputId": "7a7a2e1e-5a4d-4076-eb6a-0fd4540424d3"
      },
      "source": [
        "a=100  \n",
        "Str1 =\"We are learning Python\"  \n",
        "c = 20.5  \n",
        "print(type(a))  \n",
        "print(type(Str1))  \n",
        "print(type(c))"
      ],
      "execution_count": null,
      "outputs": [
        {
          "output_type": "stream",
          "text": [
            "<class 'int'>\n",
            "<class 'str'>\n",
            "<class 'float'>\n"
          ],
          "name": "stdout"
        }
      ]
    },
    {
      "cell_type": "code",
      "metadata": {
        "colab": {
          "base_uri": "https://localhost:8080/"
        },
        "id": "1QiQou7BbuMe",
        "outputId": "f3718417-06f4-432f-d33b-47033c4060e5"
      },
      "source": [
        "\n",
        "\n",
        "\n",
        "a = 5  \n",
        "print(\"The type of a\", type(a))  \n",
        "  \n",
        "b = 50.5  \n",
        "print(\"The type of b\", type(b))  \n",
        "  \n",
        "c = 1+3j  \n",
        "print(\"The type of c\", type(c))  \n",
        "print(\" c is a complex number\", isinstance(1+3j,complex))"
      ],
      "execution_count": null,
      "outputs": [
        {
          "output_type": "stream",
          "text": [
            "The type of a <class 'int'>\n",
            "The type of b <class 'float'>\n",
            "The type of c <class 'complex'>\n",
            " c is a complex number True\n"
          ],
          "name": "stdout"
        }
      ]
    },
    {
      "cell_type": "code",
      "metadata": {
        "colab": {
          "base_uri": "https://localhost:8080/"
        },
        "id": "EnNyx8-Eb04_",
        "outputId": "3d5d1b11-9284-4127-f6b7-1abe32e50ab5"
      },
      "source": [
        "str = \"This sentence has  double quotes\"  \n",
        "print(str)  \n",
        "s1 = '''''This line has multiline \n",
        "string'''  \n",
        "print(s1)"
      ],
      "execution_count": null,
      "outputs": [
        {
          "output_type": "stream",
          "text": [
            "This sentence has  double quotes\n",
            "''This line has multiline \n",
            "string\n"
          ],
          "name": "stdout"
        }
      ]
    },
    {
      "cell_type": "code",
      "metadata": {
        "colab": {
          "base_uri": "https://localhost:8080/"
        },
        "id": "8E1j_U1rb4dQ",
        "outputId": "43ede6f0-7b2c-4b4e-ed15-ba96611c2d22"
      },
      "source": [
        "\n",
        "str1 = 'hello world'         #string str1    \n",
        "str2 = ' Happy Holidays'      #string str2    \n",
        "print (str1[0:2])            #printing first two character using slice operator    \n",
        "print (str1[4])             #printing 4th character of the string    \n",
        "print (str1*2)               #printing the string twice    \n",
        "print (str1 + str2)          #printing the concatenation of str1 and str2"
      ],
      "execution_count": null,
      "outputs": [
        {
          "output_type": "stream",
          "text": [
            "he\n",
            "o\n",
            "hello worldhello world\n",
            "hello world Happy Holidays\n"
          ],
          "name": "stdout"
        }
      ]
    },
    {
      "cell_type": "code",
      "metadata": {
        "colab": {
          "base_uri": "https://localhost:8080/"
        },
        "id": "MV0pfUqsb9XL",
        "outputId": "76654f64-3a62-4074-9039-73f71edbbc8d"
      },
      "source": [
        "list1  = [1, \"hi\", \"Python\", 2]    \n",
        "#Checking type of given list  \n",
        "print(type(list1))  \n",
        "  \n",
        "#Printing the list1  \n",
        "print (list1)  \n",
        "  \n",
        "# List slicing  \n",
        "print (list1[3:])  \n",
        "  \n",
        "# List slicing  \n",
        "print (list1[0:2])   \n",
        "  \n",
        "# List Concatenation using + operator  \n",
        "print (list1 + list1)  \n",
        "  \n",
        "# List repetation using * operator  \n",
        "print (list1 * 3)"
      ],
      "execution_count": null,
      "outputs": [
        {
          "output_type": "stream",
          "text": [
            "<class 'list'>\n",
            "[1, 'hi', 'Python', 2]\n",
            "[2]\n",
            "[1, 'hi']\n",
            "[1, 'hi', 'Python', 2, 1, 'hi', 'Python', 2]\n",
            "[1, 'hi', 'Python', 2, 1, 'hi', 'Python', 2, 1, 'hi', 'Python', 2]\n"
          ],
          "name": "stdout"
        }
      ]
    },
    {
      "cell_type": "code",
      "metadata": {
        "colab": {
          "base_uri": "https://localhost:8080/",
          "height": 298
        },
        "id": "NwDaxLnkcByR",
        "outputId": "64493af6-1a4c-4930-e894-b0e2a8a83265"
      },
      "source": [
        "tup  = (\"hi\", \"Python\", 2)    \n",
        "# Checking type of tup  \n",
        "print (type(tup))    \n",
        "  \n",
        "#Printing the tuple  \n",
        "print (tup)  \n",
        "  \n",
        "# Tuple slicing  \n",
        "print (tup[1:])    \n",
        "print (tup[0:1])    \n",
        "  \n",
        "# Tuple concatenation using + operator  \n",
        "print (tup + tup)    \n",
        "  \n",
        "# Tuple repatation using * operator  \n",
        "print (tup * 3)     \n",
        "  \n",
        "# Adding value to tup. It will throw an error.  \n",
        "t[2] = \"hi\""
      ],
      "execution_count": null,
      "outputs": [
        {
          "output_type": "stream",
          "text": [
            "<class 'tuple'>\n",
            "('hi', 'Python', 2)\n",
            "('Python', 2)\n",
            "('hi',)\n",
            "('hi', 'Python', 2, 'hi', 'Python', 2)\n",
            "('hi', 'Python', 2, 'hi', 'Python', 2, 'hi', 'Python', 2)\n"
          ],
          "name": "stdout"
        },
        {
          "output_type": "error",
          "ename": "NameError",
          "evalue": "ignored",
          "traceback": [
            "\u001b[0;31m---------------------------------------------------------------------------\u001b[0m",
            "\u001b[0;31mNameError\u001b[0m                                 Traceback (most recent call last)",
            "\u001b[0;32m<ipython-input-19-de145d22cccf>\u001b[0m in \u001b[0;36m<module>\u001b[0;34m()\u001b[0m\n\u001b[1;32m     17\u001b[0m \u001b[0;34m\u001b[0m\u001b[0m\n\u001b[1;32m     18\u001b[0m \u001b[0;31m# Adding value to tup. It will throw an error.\u001b[0m\u001b[0;34m\u001b[0m\u001b[0;34m\u001b[0m\u001b[0;34m\u001b[0m\u001b[0m\n\u001b[0;32m---> 19\u001b[0;31m \u001b[0mt\u001b[0m\u001b[0;34m[\u001b[0m\u001b[0;36m2\u001b[0m\u001b[0;34m]\u001b[0m \u001b[0;34m=\u001b[0m \u001b[0;34m\"hi\"\u001b[0m\u001b[0;34m\u001b[0m\u001b[0;34m\u001b[0m\u001b[0m\n\u001b[0m",
            "\u001b[0;31mNameError\u001b[0m: name 't' is not defined"
          ]
        }
      ]
    },
    {
      "cell_type": "code",
      "metadata": {
        "colab": {
          "base_uri": "https://localhost:8080/"
        },
        "id": "IqDBAj3ncF7x",
        "outputId": "2367080f-0141-45c3-ae45-b9b51387404d"
      },
      "source": [
        "\n",
        "dict = {1:'Karnataka', 2:'Kerala', 3:'UP', 4:'Punjab'}     \n",
        "  \n",
        "# Printing dictionary  \n",
        "print (dict)  \n",
        "  \n",
        "# Accesing value using keys  \n",
        "print(\"1st name is \"+dict[1])   \n",
        "print(\"2nd name is \"+ dict[4])    \n",
        "  \n",
        "print (dict.keys())    \n",
        "print (dict.values())"
      ],
      "execution_count": null,
      "outputs": [
        {
          "output_type": "stream",
          "text": [
            "{1: 'Karnataka', 2: 'Kerala', 3: 'UP', 4: 'Punjab'}\n",
            "1st name is Karnataka\n",
            "2nd name is Punjab\n",
            "dict_keys([1, 2, 3, 4])\n",
            "dict_values(['Karnataka', 'Kerala', 'UP', 'Punjab'])\n"
          ],
          "name": "stdout"
        }
      ]
    },
    {
      "cell_type": "code",
      "metadata": {
        "colab": {
          "base_uri": "https://localhost:8080/",
          "height": 231
        },
        "id": "sdAFIcyTcKYD",
        "outputId": "5ce565d3-cab2-48b5-93ae-7c3d965ff1b1"
      },
      "source": [
        "\n",
        "\n",
        "# Python program to check the boolean type  \n",
        "\n",
        "print(type(True))  \n",
        "print(type(False))  \n",
        "print(false)"
      ],
      "execution_count": null,
      "outputs": [
        {
          "output_type": "stream",
          "text": [
            "<class 'bool'>\n",
            "<class 'bool'>\n"
          ],
          "name": "stdout"
        },
        {
          "output_type": "error",
          "ename": "NameError",
          "evalue": "ignored",
          "traceback": [
            "\u001b[0;31m---------------------------------------------------------------------------\u001b[0m",
            "\u001b[0;31mNameError\u001b[0m                                 Traceback (most recent call last)",
            "\u001b[0;32m<ipython-input-21-11f5dbd0955f>\u001b[0m in \u001b[0;36m<module>\u001b[0;34m()\u001b[0m\n\u001b[1;32m      5\u001b[0m \u001b[0mprint\u001b[0m\u001b[0;34m(\u001b[0m\u001b[0mtype\u001b[0m\u001b[0;34m(\u001b[0m\u001b[0;32mTrue\u001b[0m\u001b[0;34m)\u001b[0m\u001b[0;34m)\u001b[0m\u001b[0;34m\u001b[0m\u001b[0;34m\u001b[0m\u001b[0m\n\u001b[1;32m      6\u001b[0m \u001b[0mprint\u001b[0m\u001b[0;34m(\u001b[0m\u001b[0mtype\u001b[0m\u001b[0;34m(\u001b[0m\u001b[0;32mFalse\u001b[0m\u001b[0;34m)\u001b[0m\u001b[0;34m)\u001b[0m\u001b[0;34m\u001b[0m\u001b[0;34m\u001b[0m\u001b[0m\n\u001b[0;32m----> 7\u001b[0;31m \u001b[0mprint\u001b[0m\u001b[0;34m(\u001b[0m\u001b[0mfalse\u001b[0m\u001b[0;34m)\u001b[0m\u001b[0;34m\u001b[0m\u001b[0;34m\u001b[0m\u001b[0m\n\u001b[0m",
            "\u001b[0;31mNameError\u001b[0m: name 'false' is not defined"
          ]
        }
      ]
    },
    {
      "cell_type": "code",
      "metadata": {
        "colab": {
          "base_uri": "https://localhost:8080/",
          "height": 248
        },
        "id": "aJQHKxVocRkN",
        "outputId": "7677b312-45b2-4521-a8cd-ba6ee4525add"
      },
      "source": [
        "\n",
        "# Creating Empty set  \n",
        "set1 = set()  \n",
        "  \n",
        "set2 = {'India', 20.4, 100,'OOP'}  \n",
        "  \n",
        "#Printing Set value  \n",
        "print(set2)  \n",
        "  \n",
        "# Adding element to the set  \n",
        "  \n",
        "set2.add(10)  \n",
        "print(set2)  \n",
        "  \n",
        "#Removing element from the set  \n",
        "set2.remove(2)  \n",
        "print(set2)"
      ],
      "execution_count": null,
      "outputs": [
        {
          "output_type": "stream",
          "text": [
            "{100, 'OOP', 20.4, 'India'}\n",
            "{100, 'India', 10, 'OOP', 20.4}\n"
          ],
          "name": "stdout"
        },
        {
          "output_type": "error",
          "ename": "KeyError",
          "evalue": "ignored",
          "traceback": [
            "\u001b[0;31m---------------------------------------------------------------------------\u001b[0m",
            "\u001b[0;31mKeyError\u001b[0m                                  Traceback (most recent call last)",
            "\u001b[0;32m<ipython-input-22-14e24ea544b7>\u001b[0m in \u001b[0;36m<module>\u001b[0;34m()\u001b[0m\n\u001b[1;32m     14\u001b[0m \u001b[0;34m\u001b[0m\u001b[0m\n\u001b[1;32m     15\u001b[0m \u001b[0;31m#Removing element from the set\u001b[0m\u001b[0;34m\u001b[0m\u001b[0;34m\u001b[0m\u001b[0;34m\u001b[0m\u001b[0m\n\u001b[0;32m---> 16\u001b[0;31m \u001b[0mset2\u001b[0m\u001b[0;34m.\u001b[0m\u001b[0mremove\u001b[0m\u001b[0;34m(\u001b[0m\u001b[0;36m2\u001b[0m\u001b[0;34m)\u001b[0m\u001b[0;34m\u001b[0m\u001b[0;34m\u001b[0m\u001b[0m\n\u001b[0m\u001b[1;32m     17\u001b[0m \u001b[0mprint\u001b[0m\u001b[0;34m(\u001b[0m\u001b[0mset2\u001b[0m\u001b[0;34m)\u001b[0m\u001b[0;34m\u001b[0m\u001b[0;34m\u001b[0m\u001b[0m\n",
            "\u001b[0;31mKeyError\u001b[0m: 2"
          ]
        }
      ]
    },
    {
      "cell_type": "code",
      "metadata": {
        "colab": {
          "base_uri": "https://localhost:8080/"
        },
        "id": "k0vEEvL0cbhX",
        "outputId": "b33a75d0-e774-4e7b-d08c-ca2d107a96ec"
      },
      "source": [
        "m = 15\n",
        "n = 4\n",
        "\n",
        "# Output: m + n = 19\n",
        "print('m + n =',m+n)\n",
        "\n",
        "# Output: m - n = 11\n",
        "print('m - n =',m-n)\n",
        "\n",
        "# Output: m * n = 60\n",
        "print('m * n =',m*n)\n",
        "\n",
        "# Output: m / n = 3.75\n",
        "print('m / n =',m/n)\n",
        "\n",
        "# Output: m // n = 3\n",
        "print('m // n =',m//n)\n",
        "\n",
        "# Output: m ** n = 50625\n",
        "print('m ** n =',m**n)"
      ],
      "execution_count": null,
      "outputs": [
        {
          "output_type": "stream",
          "text": [
            "m + n = 19\n",
            "m - n = 11\n",
            "m * n = 60\n",
            "m / n = 3.75\n",
            "m // n = 3\n",
            "m ** n = 50625\n"
          ],
          "name": "stdout"
        }
      ]
    },
    {
      "cell_type": "code",
      "metadata": {
        "colab": {
          "base_uri": "https://localhost:8080/"
        },
        "id": "77S0Rf4YcffG",
        "outputId": "41b1fa7a-783d-4873-fab8-945a767282db"
      },
      "source": [
        "a = 10\n",
        "b = 12\n",
        "\n",
        "# Output: a > b is False\n",
        "print('a > b is',a>b)\n",
        "\n",
        "# Output: a < b is True\n",
        "print('a < b is',a<b)\n",
        "\n",
        "# Output: a == b is False\n",
        "print('a == b is',a==b)\n",
        "\n",
        "# Output: a != b is True\n",
        "print('a != b is',a!=b)\n",
        "\n",
        "# Output: a >= b is False\n",
        "print('a >= b is',a>=b)\n",
        "\n",
        "# Output: a <= b is True\n",
        "print('a <= b is',a<=b)"
      ],
      "execution_count": null,
      "outputs": [
        {
          "output_type": "stream",
          "text": [
            "a > b is False\n",
            "a < b is True\n",
            "a == b is False\n",
            "a != b is True\n",
            "a >= b is False\n",
            "a <= b is True\n"
          ],
          "name": "stdout"
        }
      ]
    },
    {
      "cell_type": "code",
      "metadata": {
        "colab": {
          "base_uri": "https://localhost:8080/",
          "height": 248
        },
        "id": "LEUTIfGjcjvp",
        "outputId": "614a6288-f770-45bc-af3b-196b59a5af78"
      },
      "source": [
        "m = True\n",
        "n = False\n",
        "\n",
        "print('m and n is',m and n)\n",
        "\n",
        "print('x or y is',x or y)\n",
        "\n",
        "print('not x is',not x)"
      ],
      "execution_count": null,
      "outputs": [
        {
          "output_type": "stream",
          "text": [
            "m and n is False\n"
          ],
          "name": "stdout"
        },
        {
          "output_type": "error",
          "ename": "NameError",
          "evalue": "ignored",
          "traceback": [
            "\u001b[0;31m---------------------------------------------------------------------------\u001b[0m",
            "\u001b[0;31mNameError\u001b[0m                                 Traceback (most recent call last)",
            "\u001b[0;32m<ipython-input-25-280a65727aea>\u001b[0m in \u001b[0;36m<module>\u001b[0;34m()\u001b[0m\n\u001b[1;32m      4\u001b[0m \u001b[0mprint\u001b[0m\u001b[0;34m(\u001b[0m\u001b[0;34m'm and n is'\u001b[0m\u001b[0;34m,\u001b[0m\u001b[0mm\u001b[0m \u001b[0;32mand\u001b[0m \u001b[0mn\u001b[0m\u001b[0;34m)\u001b[0m\u001b[0;34m\u001b[0m\u001b[0;34m\u001b[0m\u001b[0m\n\u001b[1;32m      5\u001b[0m \u001b[0;34m\u001b[0m\u001b[0m\n\u001b[0;32m----> 6\u001b[0;31m \u001b[0mprint\u001b[0m\u001b[0;34m(\u001b[0m\u001b[0;34m'x or y is'\u001b[0m\u001b[0;34m,\u001b[0m\u001b[0mx\u001b[0m \u001b[0;32mor\u001b[0m \u001b[0my\u001b[0m\u001b[0;34m)\u001b[0m\u001b[0;34m\u001b[0m\u001b[0;34m\u001b[0m\u001b[0m\n\u001b[0m\u001b[1;32m      7\u001b[0m \u001b[0;34m\u001b[0m\u001b[0m\n\u001b[1;32m      8\u001b[0m \u001b[0mprint\u001b[0m\u001b[0;34m(\u001b[0m\u001b[0;34m'not x is'\u001b[0m\u001b[0;34m,\u001b[0m\u001b[0;32mnot\u001b[0m \u001b[0mx\u001b[0m\u001b[0;34m)\u001b[0m\u001b[0;34m\u001b[0m\u001b[0;34m\u001b[0m\u001b[0m\n",
            "\u001b[0;31mNameError\u001b[0m: name 'x' is not defined"
          ]
        }
      ]
    },
    {
      "cell_type": "code",
      "metadata": {
        "colab": {
          "base_uri": "https://localhost:8080/"
        },
        "id": "G40XYr0YcoBI",
        "outputId": "2e78c7e7-6582-4081-f39d-8dcc074ca2f1"
      },
      "source": [
        "x1 = 10\n",
        "y1 = 10\n",
        "x2 = 'Welcome'\n",
        "y2 = 'Welcome'\n",
        "x3 = [10,20,30]\n",
        "y3 = [10,20,30]\n",
        "\n",
        "# Output: False\n",
        "print(x1 is not y1)\n",
        "\n",
        "# Output: True\n",
        "print(x2 is y2)\n",
        "\n",
        "# Output: False\n",
        "print(x3 is y3)"
      ],
      "execution_count": null,
      "outputs": [
        {
          "output_type": "stream",
          "text": [
            "False\n",
            "True\n",
            "False\n"
          ],
          "name": "stdout"
        }
      ]
    },
    {
      "cell_type": "code",
      "metadata": {
        "colab": {
          "base_uri": "https://localhost:8080/"
        },
        "id": "JH-F4dRHcsVR",
        "outputId": "80648c45-9a85-440d-e867-502cac9c1cb9"
      },
      "source": [
        "x = 'Hello world'\n",
        "y = {1:'a',2:'b'}\n",
        "\n",
        "# Output: True\n",
        "print('H' in x)\n",
        "\n",
        "# Output: True\n",
        "print('hello' not in x)\n",
        "\n",
        "# Output: True\n",
        "print(1 in y)\n",
        "\n",
        "# Output: False\n",
        "print('a' in y)"
      ],
      "execution_count": null,
      "outputs": [
        {
          "output_type": "stream",
          "text": [
            "True\n",
            "True\n",
            "True\n",
            "False\n"
          ],
          "name": "stdout"
        }
      ]
    },
    {
      "cell_type": "code",
      "metadata": {
        "colab": {
          "base_uri": "https://localhost:8080/"
        },
        "id": "v930Zn8Jc36d",
        "outputId": "ebb68b3c-62a1-40da-f2d6-dcf81a0b8d92"
      },
      "source": [
        "# If the number is positive, we print an appropriate message\n",
        "\n",
        "# Python if... Statement - 1 option\n",
        "num = 30\n",
        "if num > 0:\n",
        "    print(num, \"is a positive number.\")\n",
        "print(\"printed number status.\")\n",
        "\n",
        "# Python if...else Statement  - 2 option\n",
        "if num >= 0:\n",
        "    print(\"Positive or Zero\")\n",
        "else:\n",
        "    print(\"Negative number\")\n",
        "\n",
        "# Python if...elif...else Statement - 3 Option\n",
        "if num > 0:\n",
        "    print(\"Positive number\")\n",
        "elif num == 0:\n",
        "    print(\"Zero\")\n",
        "else:\n",
        "    print(\"Negative number\")"
      ],
      "execution_count": null,
      "outputs": [
        {
          "output_type": "stream",
          "text": [
            "30 is a positive number.\n",
            "printed number status.\n",
            "Positive or Zero\n",
            "Positive number\n"
          ],
          "name": "stdout"
        }
      ]
    },
    {
      "cell_type": "code",
      "metadata": {
        "colab": {
          "base_uri": "https://localhost:8080/"
        },
        "id": "cmSiBl7ic7fr",
        "outputId": "16fe138b-f18d-42ac-f35e-405aad5aa645"
      },
      "source": [
        "num = float(input(\"Enter a number: \"))\n",
        "\n",
        "if num >= 0:\n",
        "    if num == 0:\n",
        "        print(\"Zero\")\n",
        "    else:\n",
        "        print(\"Positive number\")\n",
        "else:\n",
        "    print(\"Negative number\")"
      ],
      "execution_count": null,
      "outputs": [
        {
          "output_type": "stream",
          "text": [
            "Enter a number: 8\n",
            "Positive number\n"
          ],
          "name": "stdout"
        }
      ]
    },
    {
      "cell_type": "code",
      "metadata": {
        "colab": {
          "base_uri": "https://localhost:8080/"
        },
        "id": "pHI5BRC4c-jS",
        "outputId": "273560de-9852-4539-a8c8-9e1d8249de70"
      },
      "source": [
        "# Program to find the sum of all numbers stored in a list\n",
        "\n",
        "# List of numbers\n",
        "numbers = [60, 25, 33, 85, 40, 22, 55, 43, 51]\n",
        "\n",
        "# variable to store the sum\n",
        "sum = 0\n",
        "\n",
        "# iterate over the list\n",
        "for val in numbers:\n",
        "    sum = sum+val\n",
        "\n",
        "print(\"The sum is\", sum)"
      ],
      "execution_count": null,
      "outputs": [
        {
          "output_type": "stream",
          "text": [
            "The sum is 414\n"
          ],
          "name": "stdout"
        }
      ]
    },
    {
      "cell_type": "code",
      "metadata": {
        "colab": {
          "base_uri": "https://localhost:8080/"
        },
        "id": "5AgHdZngdH12",
        "outputId": "edc2de48-087c-4202-ad29-92c2620da0b7"
      },
      "source": [
        "print(range(10))\n",
        "print(list(range(15)))\n",
        "print(list(range(2, 10)))\n",
        "print(list(range(2, 30, 3)))"
      ],
      "execution_count": null,
      "outputs": [
        {
          "output_type": "stream",
          "text": [
            "range(0, 10)\n",
            "[0, 1, 2, 3, 4, 5, 6, 7, 8, 9, 10, 11, 12, 13, 14]\n",
            "[2, 3, 4, 5, 6, 7, 8, 9]\n",
            "[2, 5, 8, 11, 14, 17, 20, 23, 26, 29]\n"
          ],
          "name": "stdout"
        }
      ]
    },
    {
      "cell_type": "code",
      "metadata": {
        "colab": {
          "base_uri": "https://localhost:8080/"
        },
        "id": "m9GNI4yvdMVM",
        "outputId": "be3656d8-17f9-4244-c0fa-715387da6a74"
      },
      "source": [
        "\n",
        "\n",
        "\n",
        "# Program to iterate through a list using indexing\n",
        "\n",
        "music = ['pop', 'rock', 'jazz','classic']\n",
        "\n",
        "# iterate over the list using index\n",
        "\n",
        "for i in range(len(music)):\n",
        "    print(\"I like\", music[i])\n",
        "\n",
        "#combined with the len() function to iterate through a sequence using indexing."
      ],
      "execution_count": null,
      "outputs": [
        {
          "output_type": "stream",
          "text": [
            "I like pop\n",
            "I like rock\n",
            "I like jazz\n",
            "I like classic\n"
          ],
          "name": "stdout"
        }
      ]
    },
    {
      "cell_type": "code",
      "metadata": {
        "colab": {
          "base_uri": "https://localhost:8080/"
        },
        "id": "QWGIDHYsdWlC",
        "outputId": "b528b439-5f45-4ca1-edec-70f22556c602"
      },
      "source": [
        "\n",
        "# program to display student's marks from record\n",
        "student_name = 'Soyuj'\n",
        "\n",
        "marks = {'James': 90, 'Jules': 55, 'Arthur': 77}\n",
        "\n",
        "for student in marks:\n",
        "    if student == student_name:\n",
        "        print(marks[student])\n",
        "        break\n",
        "else:\n",
        "    print('No entry with that name found.')\n",
        "\n",
        "\n",
        "# Use of break statement inside the loop\n",
        "\n",
        "for val in \"string\":\n",
        "    if val == \"i\":\n",
        "        break\n",
        "    print(val)\n",
        "\n",
        "print(\"The end\")\n",
        "\n",
        "\n",
        "# Program to show the use of continue statement inside loops\n",
        "\n",
        "for val in \"string\":\n",
        "    if val == \"i\":\n",
        "        continue\n",
        "    print(val)\n",
        "\n",
        "print(\"The end\")"
      ],
      "execution_count": null,
      "outputs": [
        {
          "output_type": "stream",
          "text": [
            "No entry with that name found.\n",
            "s\n",
            "t\n",
            "r\n",
            "The end\n",
            "s\n",
            "t\n",
            "r\n",
            "n\n",
            "g\n",
            "The end\n"
          ],
          "name": "stdout"
        }
      ]
    },
    {
      "cell_type": "code",
      "metadata": {
        "colab": {
          "base_uri": "https://localhost:8080/"
        },
        "id": "1E0H9EAfda1q",
        "outputId": "81fc9600-36f9-43e4-be38-4301fe0b197b"
      },
      "source": [
        "# To take input from the user,\n",
        "# n = int(input(\"Enter n: \"))\n",
        "\n",
        "n = 10\n",
        "\n",
        "# initialize sum and counter\n",
        "sum = 0\n",
        "i = 1\n",
        "\n",
        "while i <= n:\n",
        "    sum = sum + i\n",
        "    i = i+1    # update counter\n",
        "\n",
        "# print the sum\n",
        "print(\"The sum is\", sum)\n",
        "\n",
        "\n",
        "# While loop with else\n",
        "\n",
        "'''Example to illustrate\n",
        "the use of else statement\n",
        "with the while loop'''\n",
        "\n",
        "counter = 0\n",
        "\n",
        "while counter < 3:\n",
        "    print(\"Inside loop\")\n",
        "    counter = counter + 1\n",
        "else:\n",
        "    print(\"Inside else\")"
      ],
      "execution_count": null,
      "outputs": [
        {
          "output_type": "stream",
          "text": [
            "The sum is 55\n",
            "Inside loop\n",
            "Inside loop\n",
            "Inside loop\n",
            "Inside else\n"
          ],
          "name": "stdout"
        }
      ]
    }
  ]
}